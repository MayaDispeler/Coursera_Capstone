{
    "cells": [
        {
            "metadata": {
                "collapsed": true
            },
            "cell_type": "markdown",
            "source": "# <center>All about the City - Chennai</center>\n"
        },
        {
            "metadata": {},
            "cell_type": "markdown",
            "source": "## Restaurant in Chennai"
        },
        {
            "metadata": {},
            "cell_type": "markdown",
            "source": "### Issue Foundation  :\n\nChennai is the capital and biggest city of the Indian state of TamilNadu. With a populace of over 15 million (as of January 2016), Chennai is the 15th biggest city in India.The differences of the cooking accessible is intelligent of the social and financial differing qualities of Chennai. Roadside merchants, tea slows down, South Indian, North Indian, Muslim nourishment, Chinese and Western quick nourishment are all exceptionally prevalent within the city. Udupi eateries, are exceptionally well known and serve overwhelmingly vegan food. The Chinese nourishment and the Thai nourishment served in most of the eateries are can be tweaked to cater to the tastes of the Indian populace. Bangalore can too be called a foodie's heaven since of its endless assortment of nourishments and edibles with a touch of Chennai's uniqueness and convention*"
        },
        {
            "metadata": {},
            "cell_type": "markdown",
            "source": "### Issue portrayal : \n\nSuppose i travel and keep changing places very frequently. This is very hectic and plus i get to experience very different types of environment, of which i donot have much knowledge about. In such situation, food can be an important factor for decided how you rate your trips and plus also recommmending it to the people. Food can also attract people around to world to try it out if it were to be the best. In such scenarios, we need to find the right place, at reasonable cost, to serve us the best possible way. So there are few questions that must be addresed, such as :\n\nHow many types of foods are available in the restaurant ?\nwhich is the most nearest to me with good rating ?\nHow many \"similar\" restaurants are available near by me ?\nDo the \"similar\" restaurants cost more ? if so, what speciality do that have ?\nTo address such question, XXYZ company's manager decides to allocate this project to me not just to find out solutions to the questions but also build a system that can help in recommending new places based on their rankings compared to the previously visited by me.\n\nExpectations from this recommender system is to get answer for the questions, and in such a way that it uncovers all the perspective of managing recommendations. It is sighted to show :\n\nWhat types of restaurants are present in a paeticular area ?\nwhere are the similar restaurant present based on a preference to particular food ?\nHow do different restaurants rank with respect to my preferences ?\n"
        },
        {
            "metadata": {},
            "cell_type": "markdown",
            "source": "### Target People :\nTarget audiences for this project does not limit to a person who keeps travelling but everyone. People could simply decide to look for a similar restaurant all the time because they are addicted to a specific category of food. People who rarely use restaurants would prefer to have the most rated restaurants nearby them and all this could be easily handed by our recommender system. So target for this project is basically everyone who is exploring different places or similar places.\n"
        },
        {
            "metadata": {},
            "cell_type": "markdown",
            "source": "### Positive Rate :\nWith restaurants evolving, new food categories emerge, hybrid food starts to be more popular, we need a system that could help us access vast number of food varieties. It is impossible for a person to ask each and everyone about their visit to a particular place and also not everyone remembers everything. On the other hand, Computers are good at remembering things, and with Machine learning to its peak, it high time technology will by our personal guidence and help us personally based on our likes and dislikes. So people would care about this project as their personal assistance and success rate could certainly increase with time.\n"
        },
        {
            "metadata": {},
            "cell_type": "code",
            "source": "",
            "execution_count": null,
            "outputs": []
        }
    ],
    "metadata": {
        "kernelspec": {
            "name": "python3",
            "display_name": "Python 3.7",
            "language": "python"
        },
        "language_info": {
            "name": "python",
            "version": "3.7.9",
            "mimetype": "text/x-python",
            "codemirror_mode": {
                "name": "ipython",
                "version": 3
            },
            "pygments_lexer": "ipython3",
            "nbconvert_exporter": "python",
            "file_extension": ".py"
        }
    },
    "nbformat": 4,
    "nbformat_minor": 1
}