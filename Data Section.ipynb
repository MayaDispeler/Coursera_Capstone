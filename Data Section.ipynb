{
    "cells": [
        {
            "metadata": {
                "collapsed": true
            },
            "cell_type": "markdown",
            "source": "# <center>All about City - Bengaluru</center>"
        },
        {
            "metadata": {},
            "cell_type": "markdown",
            "source": "## Restaurant in Bengaluru"
        },
        {
            "metadata": {},
            "cell_type": "markdown",
            "source": "### Information prerequisites :\nTo discover a arrangement to the questions and construct a recommender show, we require information and parcels of information. \nInformation can reply address which are unfathomable and non liable by people since people don't have the inclination to examine such huge dataset and deliver analytics to discover a solutions. Let's consider the base situation : Suppose i need to discover a eatery, at that point coherently, I require certain things such as ,Its geological coordinates(latitude and longitude) to discover our where precisely it is located. Population of the neighborhood where the eatery is located. Average salary of neighborhood to know how much is the eatery worth. Lets take a closer see at each of these : To get to area of a eatery, its Scope and Longitude is to be known so that ready to point at its facilitates and make a outline showing all the eateries with its names respectively. Population of a neighborhood is exceptionally imperative calculate in deciding a restaurant's development and sum of clients who turn up to eat"
        },
        {
            "metadata": {},
            "cell_type": "markdown",
            "source": "### Information collection\nCollecting geological facilitates isn't troublesome but after googling for more than 2 days, it was not accessible on open source information websites such as wikipedia, india gov site, census report websites etc. So i chosen to utilize Google maps API to bring scope and longitude but google API has constrained number of calls that i seem make with my free account. So it would take around 15 - 20 days to bring area of all the neighborhoods in Bengaluru. At first i rejected list of neighbor's utilizing beautifulSoup4 from wikipedia. The table headings getting to be the boroughs and information getting to be the neighborhoods. So i physically googled each neighborhood to discover its comparing scope and longitude.."
        },
        {
            "metadata": {},
            "cell_type": "markdown",
            "source": "#### Data Link : https://en.wikipedia.org/wiki/List_of_neighbourhoods_in_Bangalore\nWe'll need information almost diverse settings in several neighborhoods of that particular borough. In order to pick up that data we'll utilize \"Foursquare\" locational data. Foursquare may be a area information supplier with data almost all way of settings and occasions inside an range of intrigued. Such data incorporates scene names, areas, menus and indeed photographs. As such, the foursquare area stage will be utilized as the sole information source since all the expressed required data can be gotten through the API. After finding the list of neighborhoods, we at that point interface to the Foursquare API to assemble data approximately settings interior each and each neighborhood. For each neighborhood, we have chosen the sweep to be 100 meter. The information recovered from Foursquare contained data of settings inside a indicated separate of the longitude and scope of the postcodes. The data will get as per setting are Nearest Places,Latitude,Longitude,Venue,title of a store or restaurant,Scene Latitude,Setting Longitude,Scene Category"
        },
        {
            "metadata": {},
            "cell_type": "code",
            "source": "",
            "execution_count": null,
            "outputs": []
        }
    ],
    "metadata": {
        "kernelspec": {
            "name": "python3",
            "display_name": "Python 3.7",
            "language": "python"
        },
        "language_info": {
            "name": "python",
            "version": "3.7.9",
            "mimetype": "text/x-python",
            "codemirror_mode": {
                "name": "ipython",
                "version": 3
            },
            "pygments_lexer": "ipython3",
            "nbconvert_exporter": "python",
            "file_extension": ".py"
        }
    },
    "nbformat": 4,
    "nbformat_minor": 1
}
